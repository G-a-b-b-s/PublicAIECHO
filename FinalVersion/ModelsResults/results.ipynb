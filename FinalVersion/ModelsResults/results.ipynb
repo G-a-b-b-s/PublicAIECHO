{
 "cells": [
  {
   "cell_type": "code",
   "id": "initial_id",
   "metadata": {
    "collapsed": true,
    "ExecuteTime": {
     "end_time": "2025-04-08T04:11:26.266995Z",
     "start_time": "2025-04-08T04:11:26.260743Z"
    }
   },
   "source": "import pandas as pd",
   "outputs": [],
   "execution_count": 2
  },
  {
   "metadata": {
    "ExecuteTime": {
     "end_time": "2025-04-08T04:21:31.748638Z",
     "start_time": "2025-04-08T04:21:31.739056Z"
    }
   },
   "cell_type": "code",
   "source": [
    "results ={\n",
    "    'Densenet161_focal': 0.7322,\n",
    "    'ResNet50d_focal': 0.7627,\n",
    "    'EfficientNetB3_focal': 0.7897,\n",
    "    'EfficientNetB4_focal': 0.7702,\n",
    "    'Densenet161_stratified_folds':0.7942,\n",
    "    'ResNet50d_stratified_folds':0.7692,\n",
    "    'EfficientNetB3_stratified_folds':0.7740,\n",
    "    'EfficientNetB4_stratified_folds':0.7519,\n",
    "    'Densenet161_scheduler':0.7375,\n",
    "    'EfficientNetB3_scheduler':0.7948,\n",
    "    'EfficientNetB4_scheduler':0.7486,\n",
    "    'Densenet161_weighted':0.7375,\n",
    "    'EfficientNetB3_weighted':0.7948,\n",
    "    'ResNet50d_weighted':0.7588,\n",
    "    'EfficientNetB4_weighted':0.7450,\n",
    "    \"ResNet18_3D\":0.7412,\n",
    "    'Vit_3D':0.6782,\n",
    "    'EfficentNetB4': 0.7483546144289843, \n",
    "    'ResNet34':  0.7213271676135727, \n",
    "    'ResNet101': 0.7344733264358919, \n",
    "    'InceptionV3':  0.751568226114101, \n",
    "    'DenseNet161':  0.7472270254433275, \n",
    "    'ResNet50d': 0.7632945465886741,\n",
    "    'EfficientNetB0': 0.7650462880823009, \n",
    "    'ResNet18': 0.7158292153315655,\n",
    "    'EfficientNetB3': 0.760753254272382, \n",
    "    'ResNet18_3D_drop_path_rate': 0.7537,\n",
    "    'ResNet18_3D_drop_head': 0.7428,\n",
    "    'ResNet18_3D_custom_drop': 0.7428,\n",
    "    'ResNet34_wighted': 0.725104988376525, \n",
    "    'InceptionV3_weighted': 0.7757729481315391,\n",
    "    'EfficientNetB0_weighted':0.761541335450398, \n",
    "    'ResNet18_weighted': 0.737316303548146, \n",
    "    'ResNet34_scheduler': 0.727859857838097, \n",
    "    'InceptionV3_scheduler':  0.7546715431933204, \n",
    "    'EfficientNetB0_stratified_folds': 0.7473593537927968, \n",
    "    'ResNet18_stratified_folds': 0.7601612765280958, \n",
    "    'ResNet34_stratified_folds': 0.7646691548982056, \n",
    "    'InceptionV3_stratified_folds': 0.767248677326715, \n",
    "    'EfficientNetB0_focal':0.7689633006080443, \n",
    "    'ResNet18_focal':0.7739171315672182,\n",
    "    'ResNet34_focal': 0.7478718882974145, \n",
    "    'InceptionV3_focal': 0.7354069061480775,\n",
    "    'EfficientNetB0_scheduler': 0.7618773778664794, \n",
    "    'ResNet18_scheduler':0.7187703957197437, \n",
    "\n",
    "}"
   ],
   "id": "59a87392fcaa6de5",
   "outputs": [],
   "execution_count": 3
  },
  {
   "metadata": {
    "ExecuteTime": {
     "end_time": "2025-04-08T04:21:41.566636Z",
     "start_time": "2025-04-08T04:21:41.526597Z"
    }
   },
   "cell_type": "code",
   "source": "results_df = pd.DataFrame(results.items(), columns=['Model', 'TestAUC'])",
   "id": "54bd45c8ed9dcd52",
   "outputs": [],
   "execution_count": 4
  },
  {
   "metadata": {
    "ExecuteTime": {
     "end_time": "2025-04-08T04:21:44.841447Z",
     "start_time": "2025-04-08T04:21:44.829181Z"
    }
   },
   "cell_type": "code",
   "source": "results_df = results_df.sort_values(by='TestAUC', ascending=False)",
   "id": "532a54803960a3fb",
   "outputs": [],
   "execution_count": 5
  },
  {
   "metadata": {
    "ExecuteTime": {
     "end_time": "2025-04-08T04:22:19.290397Z",
     "start_time": "2025-04-08T04:22:19.259291Z"
    }
   },
   "cell_type": "code",
   "source": "results_df.to_csv('results.csv', index=False)",
   "id": "11130329053f9e75",
   "outputs": [],
   "execution_count": 7
  },
  {
   "metadata": {},
   "cell_type": "code",
   "outputs": [],
   "execution_count": null,
   "source": "",
   "id": "343f88dcb49a7a5f"
  }
 ],
 "metadata": {
  "kernelspec": {
   "display_name": "Python 3",
   "language": "python",
   "name": "python3"
  },
  "language_info": {
   "codemirror_mode": {
    "name": "ipython",
    "version": 2
   },
   "file_extension": ".py",
   "mimetype": "text/x-python",
   "name": "python",
   "nbconvert_exporter": "python",
   "pygments_lexer": "ipython2",
   "version": "2.7.6"
  }
 },
 "nbformat": 4,
 "nbformat_minor": 5
}
