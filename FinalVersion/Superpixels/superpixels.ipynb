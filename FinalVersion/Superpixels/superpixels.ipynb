{
 "cells": [
  {
   "cell_type": "code",
   "id": "abfbeacb-7530-49bc-827c-f6a70228b3d7",
   "metadata": {
    "ExecuteTime": {
     "end_time": "2025-02-21T10:42:27.725735Z",
     "start_time": "2025-02-21T10:42:24.681980Z"
    }
   },
   "source": [
    "import numpy as np\n",
    "import nibabel as nib\n",
    "from pycimg import CImg\n",
    "from skimage.segmentation import slic, find_boundaries"
   ],
   "outputs": [
    {
     "ename": "ModuleNotFoundError",
     "evalue": "No module named 'pycimg'",
     "output_type": "error",
     "traceback": [
      "\u001B[1;31m---------------------------------------------------------------------------\u001B[0m",
      "\u001B[1;31mModuleNotFoundError\u001B[0m                       Traceback (most recent call last)",
      "Cell \u001B[1;32mIn[1], line 3\u001B[0m\n\u001B[0;32m      1\u001B[0m \u001B[38;5;28;01mimport\u001B[39;00m \u001B[38;5;21;01mnumpy\u001B[39;00m \u001B[38;5;28;01mas\u001B[39;00m \u001B[38;5;21;01mnp\u001B[39;00m\n\u001B[0;32m      2\u001B[0m \u001B[38;5;28;01mimport\u001B[39;00m \u001B[38;5;21;01mnibabel\u001B[39;00m \u001B[38;5;28;01mas\u001B[39;00m \u001B[38;5;21;01mnib\u001B[39;00m\n\u001B[1;32m----> 3\u001B[0m \u001B[38;5;28;01mfrom\u001B[39;00m \u001B[38;5;21;01mpycimg\u001B[39;00m \u001B[38;5;28;01mimport\u001B[39;00m CImg\n\u001B[0;32m      4\u001B[0m \u001B[38;5;28;01mfrom\u001B[39;00m \u001B[38;5;21;01mskimage\u001B[39;00m\u001B[38;5;21;01m.\u001B[39;00m\u001B[38;5;21;01msegmentation\u001B[39;00m \u001B[38;5;28;01mimport\u001B[39;00m slic, find_boundaries\n",
      "\u001B[1;31mModuleNotFoundError\u001B[0m: No module named 'pycimg'"
     ]
    }
   ],
   "execution_count": 1
  },
  {
   "cell_type": "code",
   "execution_count": 2,
   "id": "78677ae9-1672-4f4f-9238-3c014d716ce2",
   "metadata": {},
   "outputs": [
    {
     "name": "stderr",
     "output_type": "stream",
     "text": [
      ": this = 0x60d8e5293100, size = (512,512,1,1) [1024 Kio], data = (float32*)0x60d8e596ae70..0x60d8e5a6ae6f (non-shared) = [ 54586.5 53331.2 51834.2 50085.1 45581.9 41196.2 37534.5 50546.6 ... 19825.5 19543.7 19224.2 19189.1 18656 18221.8 18064.7 13950.3 ], min = 16, max = 81600, mean = 36337.3, std = 12860.6, coords_min = (488,495,0,0), coords_max = (44,87,0,0).\n"
     ]
    }
   ],
   "source": [
    "# 2D X-rays\n",
    "fname = '0_0000.nii.gz'\n",
    "im = nib.load(fname).get_fdata()\n",
    "\n",
    "im_rgb = np.tile(im, (1, 1, 3))\n",
    "\n",
    "superpixels = slic(im_rgb, n_segments=500, compactness=5.0, max_num_iter=100, sigma=2, spacing=None, convert2lab=None, enforce_connectivity=True, min_size_factor=0.5, max_size_factor=3, slic_zero=False, start_label=1)\n",
    "boundaries = find_boundaries(superpixels, mode='thick')\n",
    "\n",
    "CImg(boundaries*np.max(im_rgb)/4 + im_rgb[:,:,0]).display();\n"
   ]
  },
  {
   "cell_type": "code",
   "execution_count": 3,
   "id": "8fa788dd-1228-4aa7-9973-cd1ec48d18fd",
   "metadata": {},
   "outputs": [
    {
     "name": "stderr",
     "output_type": "stream",
     "text": [
      ": this = 0x60d8e59001d0, size = (1016,708,1,1) [2809 Kio], data = (float32*)0x60d8e6464c90..0x60d8e672340f (non-shared) = [ 0 0 0 0 0 0 0 0 ... 0 0 0 0 0 0 0 0 ], min = 0, max = 306, mean = 31.4812, std = 53.2016, coords_min = (0,0,0,0), coords_max = (528,616,0,0).\n"
     ]
    }
   ],
   "source": [
    "# 2D USG frame\n",
    "fname = 'image_332.nii.gz'\n",
    "\n",
    "im = nib.load(fname).get_fdata()\n",
    "im2D = im[:,:,0:1]\n",
    "\n",
    "im_rgb = np.tile(im2D, (1, 1, 3))\n",
    "\n",
    "superpixels = slic(im_rgb, n_segments=500, compactness=5.0, max_num_iter=100, sigma=2, spacing=None, convert2lab=None, enforce_connectivity=True, min_size_factor=0.5, max_size_factor=3, slic_zero=False, start_label=1)\n",
    "boundaries = find_boundaries(superpixels, mode='thick')\n",
    "\n",
    "CImg(boundaries*np.max(im_rgb)/4 + im_rgb[:,:,0]).display();\n"
   ]
  },
  {
   "cell_type": "code",
   "execution_count": 6,
   "id": "e265c9c3-829c-42a8-b274-15e16ce88974",
   "metadata": {},
   "outputs": [
    {
     "name": "stdout",
     "output_type": "stream",
     "text": [
      "(708, 1016, 30, 3)\n"
     ]
    }
   ],
   "source": [
    "# 3D USG composed frames\n",
    "\n",
    "fname = 'image_332.nii.gz'\n",
    "\n",
    "im = nib.load(fname).get_fdata()\n",
    "im = np.reshape(im, im.shape + (1,))\n",
    "\n",
    "im_rgb = np.tile(im, (1, 1, 1, 3))\n",
    "\n",
    "print(im_rgb.shape)\n",
    "\n",
    "superpixels = slic(im_rgb, n_segments=500, compactness=5.0, max_num_iter=100, sigma=2, spacing=None, convert2lab=None, enforce_connectivity=True, min_size_factor=0.5, max_size_factor=3, slic_zero=False, start_label=1)\n",
    "boundaries = find_boundaries(superpixels, mode='thick')\n",
    "CImg(boundaries*np.max(im_rgb)/4 + im_rgb[:,:,:,0]).display();\n",
    "\n",
    "foo = np.asarray(boundaries,dtype=np.uint8)\n",
    "niftiImage = nib.Nifti1Image(foo, affine=np.eye(4))\n",
    "nib.save(niftiImage,'boundaries.nii.gz')\n",
    "foo = np.asarray(superpixels,dtype=np.uint16)\n",
    "niftiImage = nib.Nifti1Image(foo, affine=np.eye(4))\n",
    "nib.save(niftiImage,'superpixels.nii.gz')\n",
    "\n"
   ]
  },
  {
   "metadata": {},
   "cell_type": "code",
   "outputs": [],
   "execution_count": null,
   "source": [
    "# 3D USG composed frames\n",
    "\n",
    "fname = 'image_332.nii.gz'\n",
    "\n",
    "im = nib.load(fname).get_fdata()\n",
    "im = np.reshape(im, im.shape + (1,))\n",
    "mask = im > 0\n",
    "im_rgb = np.tile(im, (1, 1, 1, 3))\n",
    "\n",
    "print(im_rgb.shape)\n",
    "\n",
    "superpixels = slic(im_rgb, n_segments=500, compactness=5.0, max_num_iter=100, sigma=2, spacing=None, convert2lab=None, enforce_connectivity=True, min_size_factor=0.5, max_size_factor=3, slic_zero=False, start_label=1, mask=mask)\n",
    "boundaries = find_boundaries(superpixels, mode='thick')\n",
    "CImg(boundaries*np.max(im_rgb)/4 + im_rgb[:,:,:,0]).display();\n",
    "\n",
    "nib.save(nib.Nifti1Image(superpixels.astype(np.uint16), affine=np.eye(4)), 'masked_superpixels.nii.gz')\n",
    "nib.save(nib.Nifti1Image(boundaries.astype(np.uint8), affine=np.eye(4)), 'masked_boundaries.nii.gz')\n",
    "\n",
    "print(\"Maska zastosowana, pliki zapisane!\")"
   ],
   "id": "9bd75db4da52e669"
  },
  {
   "cell_type": "code",
   "execution_count": 21,
   "id": "afae0acd-69d3-4ed7-8262-754f81dae091",
   "metadata": {},
   "outputs": [],
   "source": [
    "# 3D USG composed frames\n",
    "\n",
    "fname = 'image_332.nii.gz'\n",
    "\n",
    "im = nib.load(fname).get_fdata()\n",
    "im = np.reshape(im, im.shape + (1,))\n",
    "mask = im > 0\n",
    "im_rgb = np.tile(im, (1, 1, 1, 3))\n",
    "\n",
    "print(im_rgb.shape)\n",
    "\n",
    "superpixels = slic(im_rgb, n_segments=500, compactness=5.0, max_num_iter=100, sigma=2, spacing=None, convert2lab=None, enforce_connectivity=True, min_size_factor=0.5, max_size_factor=3, slic_zero=False, start_label=1, mask=mask)\n",
    "boundaries = find_boundaries(superpixels, mode='thick')\n",
    "CImg(boundaries*np.max(im_rgb)/4 + im_rgb[:,:,:,0]).display();\n",
    "\n",
    "nib.save(nib.Nifti1Image(superpixels.astype(np.uint16), affine=np.eye(4)), 'masked_superpixels.nii.gz')\n",
    "nib.save(nib.Nifti1Image(boundaries.astype(np.uint8), affine=np.eye(4)), 'masked_boundaries.nii.gz')\n",
    "\n",
    "print(\"Maska zastosowana, pliki zapisane!\")"
   ]
  },
  {
   "cell_type": "code",
   "execution_count": null,
   "id": "ffb52755-4a0c-42a9-b9ce-6fa34abf9047",
   "metadata": {},
   "outputs": [],
   "source": []
  }
 ],
 "metadata": {
  "kernelspec": {
   "display_name": "Python 3 (ipykernel)",
   "language": "python",
   "name": "python3"
  },
  "language_info": {
   "codemirror_mode": {
    "name": "ipython",
    "version": 3
   },
   "file_extension": ".py",
   "mimetype": "text/x-python",
   "name": "python",
   "nbconvert_exporter": "python",
   "pygments_lexer": "ipython3",
   "version": "3.11.10"
  }
 },
 "nbformat": 4,
 "nbformat_minor": 5
}
